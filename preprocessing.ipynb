{
 "cells": [
  {
   "cell_type": "code",
   "execution_count": 36,
   "metadata": {},
   "outputs": [],
   "source": [
    "import pandas as pd\n",
    "import numpy as np\n",
    "import json\n",
    "import re\n",
    "import string\n",
    "\n",
    "import nltk\n",
    "from nltk.tokenize import RegexpTokenizer\n",
    "from nltk.probability import FreqDist\n",
    "from nltk.tokenize import RegexpTokenizer\n",
    "from nltk.tokenize import word_tokenize\n",
    "from nltk.stem import PorterStemmer, WordNetLemmatizer\n",
    "from nltk.corpus import stopwords\n",
    "from sklearn.feature_extraction.text import CountVectorizer, TfidfVectorizer\n",
    "from nltk.sentiment.vader import SentimentIntensityAnalyzer\n",
    "from wordcloud import WordCloud"
   ]
  },
  {
   "cell_type": "code",
   "execution_count": 37,
   "metadata": {},
   "outputs": [],
   "source": [
    "df = pd.read_csv(\"lyrics.csv\")\n",
    "df.drop(columns=[\"Unnamed: 0\"], inplace=True)"
   ]
  },
  {
   "cell_type": "code",
   "execution_count": 38,
   "metadata": {},
   "outputs": [
    {
     "data": {
      "text/html": [
       "<div>\n",
       "<style scoped>\n",
       "    .dataframe tbody tr th:only-of-type {\n",
       "        vertical-align: middle;\n",
       "    }\n",
       "\n",
       "    .dataframe tbody tr th {\n",
       "        vertical-align: top;\n",
       "    }\n",
       "\n",
       "    .dataframe thead th {\n",
       "        text-align: right;\n",
       "    }\n",
       "</style>\n",
       "<table border=\"1\" class=\"dataframe\">\n",
       "  <thead>\n",
       "    <tr style=\"text-align: right;\">\n",
       "      <th></th>\n",
       "      <th>track_name</th>\n",
       "      <th>artist</th>\n",
       "      <th>lyrics</th>\n",
       "    </tr>\n",
       "  </thead>\n",
       "  <tbody>\n",
       "    <tr>\n",
       "      <td>0</td>\n",
       "      <td>Problems In Us</td>\n",
       "      <td>Col3trane</td>\n",
       "      <td>[Pre-Chorus]I couldn't believe that you would ...</td>\n",
       "    </tr>\n",
       "    <tr>\n",
       "      <td>1</td>\n",
       "      <td>New Shapes</td>\n",
       "      <td>Diplo</td>\n",
       "      <td>\\n\\n[Chorus]\\nYou don't show me no sign of you...</td>\n",
       "    </tr>\n",
       "    <tr>\n",
       "      <td>2</td>\n",
       "      <td>Throwaway</td>\n",
       "      <td>SG Lewis</td>\n",
       "      <td>\\n\\n[Verse 1]\\nSometimes I know what's right f...</td>\n",
       "    </tr>\n",
       "    <tr>\n",
       "      <td>3</td>\n",
       "      <td>Electrian</td>\n",
       "      <td>DJ Seinfeld</td>\n",
       "      <td>NaN</td>\n",
       "    </tr>\n",
       "    <tr>\n",
       "      <td>4</td>\n",
       "      <td>Skip</td>\n",
       "      <td>SuperParka</td>\n",
       "      <td>\\n\\nI will not always be your friend\\nTell you...</td>\n",
       "    </tr>\n",
       "    <tr>\n",
       "      <td>...</td>\n",
       "      <td>...</td>\n",
       "      <td>...</td>\n",
       "      <td>...</td>\n",
       "    </tr>\n",
       "    <tr>\n",
       "      <td>95</td>\n",
       "      <td>Softly</td>\n",
       "      <td>Clairo</td>\n",
       "      <td>\\n\\n[Verse 1]\\nIs it alright to feel this way ...</td>\n",
       "    </tr>\n",
       "    <tr>\n",
       "      <td>96</td>\n",
       "      <td>Club Paradise - Zodivk Remix</td>\n",
       "      <td>Savy Soul</td>\n",
       "      <td>NaN</td>\n",
       "    </tr>\n",
       "    <tr>\n",
       "      <td>97</td>\n",
       "      <td>Pumpy (feat. AJ x Deno, Swarmz &amp; Cadet)</td>\n",
       "      <td>Da Beatfreakz</td>\n",
       "      <td>\\n\\n[Intro: Swarmz &amp; Cadet]\\nThis is the 9 sid...</td>\n",
       "    </tr>\n",
       "    <tr>\n",
       "      <td>98</td>\n",
       "      <td>Nevermind</td>\n",
       "      <td>Dennis Lloyd</td>\n",
       "      <td>[Intro]What if I left and it made no senseAnd ...</td>\n",
       "    </tr>\n",
       "    <tr>\n",
       "      <td>99</td>\n",
       "      <td>Linked</td>\n",
       "      <td>Bonobo</td>\n",
       "      <td>[Non-Lyrical Vocals]</td>\n",
       "    </tr>\n",
       "  </tbody>\n",
       "</table>\n",
       "<p>100 rows × 3 columns</p>\n",
       "</div>"
      ],
      "text/plain": [
       "                                 track_name         artist  \\\n",
       "0                            Problems In Us      Col3trane   \n",
       "1                                New Shapes          Diplo   \n",
       "2                                 Throwaway       SG Lewis   \n",
       "3                                 Electrian    DJ Seinfeld   \n",
       "4                                      Skip     SuperParka   \n",
       "..                                      ...            ...   \n",
       "95                                   Softly         Clairo   \n",
       "96             Club Paradise - Zodivk Remix      Savy Soul   \n",
       "97  Pumpy (feat. AJ x Deno, Swarmz & Cadet)  Da Beatfreakz   \n",
       "98                                Nevermind   Dennis Lloyd   \n",
       "99                                   Linked         Bonobo   \n",
       "\n",
       "                                               lyrics  \n",
       "0   [Pre-Chorus]I couldn't believe that you would ...  \n",
       "1   \\n\\n[Chorus]\\nYou don't show me no sign of you...  \n",
       "2   \\n\\n[Verse 1]\\nSometimes I know what's right f...  \n",
       "3                                                 NaN  \n",
       "4   \\n\\nI will not always be your friend\\nTell you...  \n",
       "..                                                ...  \n",
       "95  \\n\\n[Verse 1]\\nIs it alright to feel this way ...  \n",
       "96                                                NaN  \n",
       "97  \\n\\n[Intro: Swarmz & Cadet]\\nThis is the 9 sid...  \n",
       "98  [Intro]What if I left and it made no senseAnd ...  \n",
       "99                               [Non-Lyrical Vocals]  \n",
       "\n",
       "[100 rows x 3 columns]"
      ]
     },
     "execution_count": 38,
     "metadata": {},
     "output_type": "execute_result"
    }
   ],
   "source": [
    "df"
   ]
  },
  {
   "cell_type": "code",
   "execution_count": 39,
   "metadata": {},
   "outputs": [],
   "source": [
    "df = df.dropna()\n",
    "df = df.loc[df['lyrics'] != \"[Non-Lyrical Vocals]\"]\n",
    "df = df.loc[df['lyrics'] != '']"
   ]
  },
  {
   "cell_type": "code",
   "execution_count": 40,
   "metadata": {},
   "outputs": [],
   "source": [
    "df.reset_index(drop=True, inplace=True)"
   ]
  },
  {
   "cell_type": "code",
   "execution_count": 41,
   "metadata": {},
   "outputs": [],
   "source": [
    "song_lyrics = df['lyrics']"
   ]
  },
  {
   "cell_type": "code",
   "execution_count": 42,
   "metadata": {},
   "outputs": [],
   "source": [
    "for i in range(len(song_lyrics)):\n",
    "    song_lyrics[i] = re.sub(\"([a-z])([A-Z])\", \" \\\\1\", str(song_lyrics[i])).strip()\n",
    "    song_lyrics[i] = re.sub(\"[\\(\\[].*?[\\)\\]]\", \" \", str(song_lyrics[i]))\n",
    "    song_lyrics[i] = re.sub(r\"\\s*{.*}\\s*\", \" \", str(song_lyrics[i]))\n",
    "    song_lyrics[i] = song_lyrics[i].replace(\"\\n\", \" \")\n",
    "    song_lyrics[i] = re.sub(' +', ' ', str(song_lyrics[i]))\n",
    "    song_lyrics[i] = song_lyrics[i].lower()"
   ]
  },
  {
   "cell_type": "code",
   "execution_count": 43,
   "metadata": {},
   "outputs": [
    {
     "data": {
      "text/plain": [
       "66"
      ]
     },
     "execution_count": 43,
     "metadata": {},
     "output_type": "execute_result"
    }
   ],
   "source": [
    "len(song_lyrics)"
   ]
  },
  {
   "cell_type": "code",
   "execution_count": 44,
   "metadata": {},
   "outputs": [],
   "source": [
    "df['lyrics'] = song_lyrics"
   ]
  },
  {
   "cell_type": "code",
   "execution_count": 45,
   "metadata": {},
   "outputs": [],
   "source": [
    "stop_words = list(set(stopwords.words(\"english\")))\n",
    "stop_words += list(string.punctuation)\n",
    "stop_words += list(\"I\")"
   ]
  },
  {
   "cell_type": "code",
   "execution_count": 46,
   "metadata": {},
   "outputs": [],
   "source": [
    "flat_lyrics = \" \".join(df['lyrics'].values)"
   ]
  },
  {
   "cell_type": "code",
   "execution_count": 47,
   "metadata": {},
   "outputs": [],
   "source": [
    "tokenizer = RegexpTokenizer(r'[a-zA-Z]+')\n",
    "tokenized_lyrics = tokenizer.tokenize(flat_lyrics)"
   ]
  },
  {
   "cell_type": "code",
   "execution_count": 48,
   "metadata": {},
   "outputs": [],
   "source": [
    "lyrics_no_stop_words = [word for word in tokenized_lyrics if word not in stop_words]"
   ]
  },
  {
   "cell_type": "code",
   "execution_count": 49,
   "metadata": {},
   "outputs": [],
   "source": [
    "import matplotlib.pyplot as plt"
   ]
  },
  {
   "cell_type": "code",
   "execution_count": 50,
   "metadata": {},
   "outputs": [
    {
     "data": {
      "image/png": "[encoded data removed]",
      "text/plain": [
       "<Figure size 720x576 with 1 Axes>"
      ]
     },
     "metadata": {
      "needs_background": "light"
     },
     "output_type": "display_data"
    }
   ],
   "source": [
    "plt.figure(figsize=(10,8))\n",
    "plt.xticks(rotation=45)\n",
    "FreqDist(lyrics_no_stop_words).plot(20)\n",
    "plt.show()"
   ]
  },
  {
   "cell_type": "code",
   "execution_count": 51,
   "metadata": {},
   "outputs": [],
   "source": [
    "for i, row in df.iterrows():\n",
    "    row['lyrics'] = re.sub(\"[,.]\", \"\", str(row['lyrics']))\n",
    "    row['lyrics'] = re.sub(\"-\", \" \", str(row['lyrics']))"
   ]
  },
  {
   "cell_type": "code",
   "execution_count": 52,
   "metadata": {},
   "outputs": [
    {
     "data": {
      "text/html": [
       "<div>\n",
       "<style scoped>\n",
       "    .dataframe tbody tr th:only-of-type {\n",
       "        vertical-align: middle;\n",
       "    }\n",
       "\n",
       "    .dataframe tbody tr th {\n",
       "        vertical-align: top;\n",
       "    }\n",
       "\n",
       "    .dataframe thead th {\n",
       "        text-align: right;\n",
       "    }\n",
       "</style>\n",
       "<table border=\"1\" class=\"dataframe\">\n",
       "  <thead>\n",
       "    <tr style=\"text-align: right;\">\n",
       "      <th></th>\n",
       "      <th>track_name</th>\n",
       "      <th>artist</th>\n",
       "      <th>lyrics</th>\n",
       "    </tr>\n",
       "  </thead>\n",
       "  <tbody>\n",
       "    <tr>\n",
       "      <td>0</td>\n",
       "      <td>Problems In Us</td>\n",
       "      <td>Col3trane</td>\n",
       "      <td>i couldn't believe that you would cal lnother...</td>\n",
       "    </tr>\n",
       "    <tr>\n",
       "      <td>1</td>\n",
       "      <td>New Shapes</td>\n",
       "      <td>Diplo</td>\n",
       "      <td>you don't show me no sign of your innocent si...</td>\n",
       "    </tr>\n",
       "    <tr>\n",
       "      <td>2</td>\n",
       "      <td>Throwaway</td>\n",
       "      <td>SG Lewis</td>\n",
       "      <td>sometimes i know what's right for me and i'll...</td>\n",
       "    </tr>\n",
       "    <tr>\n",
       "      <td>3</td>\n",
       "      <td>Skip</td>\n",
       "      <td>SuperParka</td>\n",
       "      <td>i will not always be your friend tell yourself...</td>\n",
       "    </tr>\n",
       "    <tr>\n",
       "      <td>4</td>\n",
       "      <td>Mile High (feat. Travis Scott &amp; Metro Boomin)</td>\n",
       "      <td>James Blake</td>\n",
       "      <td>don't wanna see you by yourself by yourself b...</td>\n",
       "    </tr>\n",
       "    <tr>\n",
       "      <td>...</td>\n",
       "      <td>...</td>\n",
       "      <td>...</td>\n",
       "      <td>...</td>\n",
       "    </tr>\n",
       "    <tr>\n",
       "      <td>61</td>\n",
       "      <td>Predicament</td>\n",
       "      <td>Kllo</td>\n",
       "      <td>though to be the one i can think about it som...</td>\n",
       "    </tr>\n",
       "    <tr>\n",
       "      <td>62</td>\n",
       "      <td>Switch</td>\n",
       "      <td>6LACK</td>\n",
       "      <td>i'm thinking 'bout a yamaha i'm thinking 'bou...</td>\n",
       "    </tr>\n",
       "    <tr>\n",
       "      <td>63</td>\n",
       "      <td>Softly</td>\n",
       "      <td>Clairo</td>\n",
       "      <td>is it alright to feel this way so early? and ...</td>\n",
       "    </tr>\n",
       "    <tr>\n",
       "      <td>64</td>\n",
       "      <td>Pumpy (feat. AJ x Deno, Swarmz &amp; Cadet)</td>\n",
       "      <td>Da Beatfreakz</td>\n",
       "      <td>this is the 9 side cadet bea treakz don't mak...</td>\n",
       "    </tr>\n",
       "    <tr>\n",
       "      <td>65</td>\n",
       "      <td>Nevermind</td>\n",
       "      <td>Dennis Lloyd</td>\n",
       "      <td>what if i left and it made no sens end you te...</td>\n",
       "    </tr>\n",
       "  </tbody>\n",
       "</table>\n",
       "<p>66 rows × 3 columns</p>\n",
       "</div>"
      ],
      "text/plain": [
       "                                       track_name         artist  \\\n",
       "0                                  Problems In Us      Col3trane   \n",
       "1                                      New Shapes          Diplo   \n",
       "2                                       Throwaway       SG Lewis   \n",
       "3                                            Skip     SuperParka   \n",
       "4   Mile High (feat. Travis Scott & Metro Boomin)    James Blake   \n",
       "..                                            ...            ...   \n",
       "61                                    Predicament           Kllo   \n",
       "62                                         Switch          6LACK   \n",
       "63                                         Softly         Clairo   \n",
       "64        Pumpy (feat. AJ x Deno, Swarmz & Cadet)  Da Beatfreakz   \n",
       "65                                      Nevermind   Dennis Lloyd   \n",
       "\n",
       "                                               lyrics  \n",
       "0    i couldn't believe that you would cal lnother...  \n",
       "1    you don't show me no sign of your innocent si...  \n",
       "2    sometimes i know what's right for me and i'll...  \n",
       "3   i will not always be your friend tell yourself...  \n",
       "4    don't wanna see you by yourself by yourself b...  \n",
       "..                                                ...  \n",
       "61   though to be the one i can think about it som...  \n",
       "62   i'm thinking 'bout a yamaha i'm thinking 'bou...  \n",
       "63   is it alright to feel this way so early? and ...  \n",
       "64   this is the 9 side cadet bea treakz don't mak...  \n",
       "65   what if i left and it made no sens end you te...  \n",
       "\n",
       "[66 rows x 3 columns]"
      ]
     },
     "execution_count": 52,
     "metadata": {},
     "output_type": "execute_result"
    }
   ],
   "source": [
    "df"
   ]
  },
  {
   "cell_type": "code",
   "execution_count": 53,
   "metadata": {},
   "outputs": [],
   "source": [
    "sid = SentimentIntensityAnalyzer()"
   ]
  },
  {
   "cell_type": "code",
   "execution_count": 54,
   "metadata": {},
   "outputs": [],
   "source": [
    "for i in range(len(df)):\n",
    "    sentiment = sid.polarity_scores(df.loc[i, 'lyrics'])\n",
    "    df.loc[i, 'neg'] = sentiment['neg']\n",
    "    df.loc[i, 'neu'] = sentiment['neu']\n",
    "    df.loc[i, 'pos'] = sentiment['pos']\n",
    "    df.loc[i, 'compound'] = sentiment['compound']"
   ]
  },
  {
   "cell_type": "code",
   "execution_count": 55,
   "metadata": {},
   "outputs": [
    {
     "data": {
      "text/html": [
       "<div>\n",
       "<style scoped>\n",
       "    .dataframe tbody tr th:only-of-type {\n",
       "        vertical-align: middle;\n",
       "    }\n",
       "\n",
       "    .dataframe tbody tr th {\n",
       "        vertical-align: top;\n",
       "    }\n",
       "\n",
       "    .dataframe thead th {\n",
       "        text-align: right;\n",
       "    }\n",
       "</style>\n",
       "<table border=\"1\" class=\"dataframe\">\n",
       "  <thead>\n",
       "    <tr style=\"text-align: right;\">\n",
       "      <th></th>\n",
       "      <th>track_name</th>\n",
       "      <th>artist</th>\n",
       "      <th>lyrics</th>\n",
       "      <th>neg</th>\n",
       "      <th>neu</th>\n",
       "      <th>pos</th>\n",
       "      <th>compound</th>\n",
       "    </tr>\n",
       "  </thead>\n",
       "  <tbody>\n",
       "    <tr>\n",
       "      <td>0</td>\n",
       "      <td>Problems In Us</td>\n",
       "      <td>Col3trane</td>\n",
       "      <td>i couldn't believe that you would cal lnother...</td>\n",
       "      <td>0.235</td>\n",
       "      <td>0.670</td>\n",
       "      <td>0.095</td>\n",
       "      <td>-0.9660</td>\n",
       "    </tr>\n",
       "    <tr>\n",
       "      <td>1</td>\n",
       "      <td>New Shapes</td>\n",
       "      <td>Diplo</td>\n",
       "      <td>you don't show me no sign of your innocent si...</td>\n",
       "      <td>0.093</td>\n",
       "      <td>0.671</td>\n",
       "      <td>0.236</td>\n",
       "      <td>0.9904</td>\n",
       "    </tr>\n",
       "    <tr>\n",
       "      <td>2</td>\n",
       "      <td>Throwaway</td>\n",
       "      <td>SG Lewis</td>\n",
       "      <td>sometimes i know what's right for me and i'll...</td>\n",
       "      <td>0.028</td>\n",
       "      <td>0.836</td>\n",
       "      <td>0.135</td>\n",
       "      <td>0.9761</td>\n",
       "    </tr>\n",
       "    <tr>\n",
       "      <td>3</td>\n",
       "      <td>Skip</td>\n",
       "      <td>SuperParka</td>\n",
       "      <td>i will not always be your friend tell yourself...</td>\n",
       "      <td>0.089</td>\n",
       "      <td>0.711</td>\n",
       "      <td>0.200</td>\n",
       "      <td>0.8791</td>\n",
       "    </tr>\n",
       "    <tr>\n",
       "      <td>4</td>\n",
       "      <td>Mile High (feat. Travis Scott &amp; Metro Boomin)</td>\n",
       "      <td>James Blake</td>\n",
       "      <td>don't wanna see you by yourself by yourself b...</td>\n",
       "      <td>0.036</td>\n",
       "      <td>0.824</td>\n",
       "      <td>0.140</td>\n",
       "      <td>0.9899</td>\n",
       "    </tr>\n",
       "    <tr>\n",
       "      <td>...</td>\n",
       "      <td>...</td>\n",
       "      <td>...</td>\n",
       "      <td>...</td>\n",
       "      <td>...</td>\n",
       "      <td>...</td>\n",
       "      <td>...</td>\n",
       "      <td>...</td>\n",
       "    </tr>\n",
       "    <tr>\n",
       "      <td>61</td>\n",
       "      <td>Predicament</td>\n",
       "      <td>Kllo</td>\n",
       "      <td>though to be the one i can think about it som...</td>\n",
       "      <td>0.114</td>\n",
       "      <td>0.828</td>\n",
       "      <td>0.058</td>\n",
       "      <td>-0.9686</td>\n",
       "    </tr>\n",
       "    <tr>\n",
       "      <td>62</td>\n",
       "      <td>Switch</td>\n",
       "      <td>6LACK</td>\n",
       "      <td>i'm thinking 'bout a yamaha i'm thinking 'bou...</td>\n",
       "      <td>0.023</td>\n",
       "      <td>0.819</td>\n",
       "      <td>0.158</td>\n",
       "      <td>0.9403</td>\n",
       "    </tr>\n",
       "    <tr>\n",
       "      <td>63</td>\n",
       "      <td>Softly</td>\n",
       "      <td>Clairo</td>\n",
       "      <td>is it alright to feel this way so early? and ...</td>\n",
       "      <td>0.046</td>\n",
       "      <td>0.844</td>\n",
       "      <td>0.111</td>\n",
       "      <td>0.8661</td>\n",
       "    </tr>\n",
       "    <tr>\n",
       "      <td>64</td>\n",
       "      <td>Pumpy (feat. AJ x Deno, Swarmz &amp; Cadet)</td>\n",
       "      <td>Da Beatfreakz</td>\n",
       "      <td>this is the 9 side cadet bea treakz don't mak...</td>\n",
       "      <td>0.097</td>\n",
       "      <td>0.795</td>\n",
       "      <td>0.108</td>\n",
       "      <td>0.7970</td>\n",
       "    </tr>\n",
       "    <tr>\n",
       "      <td>65</td>\n",
       "      <td>Nevermind</td>\n",
       "      <td>Dennis Lloyd</td>\n",
       "      <td>what if i left and it made no sens end you te...</td>\n",
       "      <td>0.070</td>\n",
       "      <td>0.752</td>\n",
       "      <td>0.177</td>\n",
       "      <td>0.9822</td>\n",
       "    </tr>\n",
       "  </tbody>\n",
       "</table>\n",
       "<p>66 rows × 7 columns</p>\n",
       "</div>"
      ],
      "text/plain": [
       "                                       track_name         artist  \\\n",
       "0                                  Problems In Us      Col3trane   \n",
       "1                                      New Shapes          Diplo   \n",
       "2                                       Throwaway       SG Lewis   \n",
       "3                                            Skip     SuperParka   \n",
       "4   Mile High (feat. Travis Scott & Metro Boomin)    James Blake   \n",
       "..                                            ...            ...   \n",
       "61                                    Predicament           Kllo   \n",
       "62                                         Switch          6LACK   \n",
       "63                                         Softly         Clairo   \n",
       "64        Pumpy (feat. AJ x Deno, Swarmz & Cadet)  Da Beatfreakz   \n",
       "65                                      Nevermind   Dennis Lloyd   \n",
       "\n",
       "                                               lyrics    neg    neu    pos  \\\n",
       "0    i couldn't believe that you would cal lnother...  0.235  0.670  0.095   \n",
       "1    you don't show me no sign of your innocent si...  0.093  0.671  0.236   \n",
       "2    sometimes i know what's right for me and i'll...  0.028  0.836  0.135   \n",
       "3   i will not always be your friend tell yourself...  0.089  0.711  0.200   \n",
       "4    don't wanna see you by yourself by yourself b...  0.036  0.824  0.140   \n",
       "..                                                ...    ...    ...    ...   \n",
       "61   though to be the one i can think about it som...  0.114  0.828  0.058   \n",
       "62   i'm thinking 'bout a yamaha i'm thinking 'bou...  0.023  0.819  0.158   \n",
       "63   is it alright to feel this way so early? and ...  0.046  0.844  0.111   \n",
       "64   this is the 9 side cadet bea treakz don't mak...  0.097  0.795  0.108   \n",
       "65   what if i left and it made no sens end you te...  0.070  0.752  0.177   \n",
       "\n",
       "    compound  \n",
       "0    -0.9660  \n",
       "1     0.9904  \n",
       "2     0.9761  \n",
       "3     0.8791  \n",
       "4     0.9899  \n",
       "..       ...  \n",
       "61   -0.9686  \n",
       "62    0.9403  \n",
       "63    0.8661  \n",
       "64    0.7970  \n",
       "65    0.9822  \n",
       "\n",
       "[66 rows x 7 columns]"
      ]
     },
     "execution_count": 55,
     "metadata": {},
     "output_type": "execute_result"
    }
   ],
   "source": [
    "df "
   ]
  },
  {
   "cell_type": "code",
   "execution_count": 123,
   "metadata": {},
   "outputs": [],
   "source": [
    "import plotly.express as px\n",
    "import matplotlib.pyplot as plt\n",
    "%matplotlib inline\n",
    "import seaborn as sns\n",
    "from mpl_toolkits import mplot3d"
   ]
  },
  {
   "cell_type": "code",
   "execution_count": 122,
   "metadata": {},
   "outputs": [
    {
     "data": {
      "text/plain": [
       "<matplotlib.collections.PathCollection at 0x1424e54e0>"
      ]
     },
     "execution_count": 122,
     "metadata": {},
     "output_type": "execute_result"
    },
    {
     "data": {
      "image/png": "[encoded data removed]",
      "text/plain": [
       "<Figure size 432x288 with 1 Axes>"
      ]
     },
     "metadata": {
      "needs_background": "light"
     },
     "output_type": "display_data"
    }
   ],
   "source": [
    "plt.scatter(x=df['neg'], y=df['pos'], s=df['neu']*25, alpha=0.4)"
   ]
  },
  {
   "cell_type": "code",
   "execution_count": 126,
   "metadata": {},
   "outputs": [
    {
     "data": {
      "text/plain": [
       "<mpl_toolkits.mplot3d.art3d.Path3DCollection at 0x14263ec18>"
      ]
     },
     "execution_count": 126,
     "metadata": {},
     "output_type": "execute_result"
    },
    {
     "data": {
      "image/png": "[encoded data removed]",
      "text/plain": [
       "<Figure size 432x288 with 1 Axes>"
      ]
     },
     "metadata": {
      "needs_background": "light"
     },
     "output_type": "display_data"
    }
   ],
   "source": [
    "ax = plt.axes(projection='3d')\n",
    "ax.scatter(df['neu'], df['pos'], df['neg'], c=df['neu'], cmap='BrBG', linewidth=1)"
   ]
  },
  {
   "cell_type": "code",
   "execution_count": null,
   "metadata": {},
   "outputs": [],
   "source": []
  }
 ],
 "metadata": {
  "kernelspec": {
   "display_name": "Python 3",
   "language": "python",
   "name": "python3"
  },
  "language_info": {
   "codemirror_mode": {
    "name": "ipython",
    "version": 3
   },
   "file_extension": ".py",
   "mimetype": "text/x-python",
   "name": "python",
   "nbconvert_exporter": "python",
   "pygments_lexer": "ipython3",
   "version": "3.6.9"
  }
 },
 "nbformat": 4,
 "nbformat_minor": 4
}
