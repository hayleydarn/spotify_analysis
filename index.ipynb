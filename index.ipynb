{
 "cells": [
  {
   "cell_type": "code",
   "execution_count": 5,
   "metadata": {},
   "outputs": [],
   "source": [
    "import json\n",
    "import spotipy\n",
    "import spotipy.util as util\n",
    "from spotipy.oauth2 import SpotifyClientCredentials\n",
    "import requests\n",
    "from bs4 import BeautifulSoup"
   ]
  },
  {
   "cell_type": "code",
   "execution_count": 17,
   "metadata": {},
   "outputs": [],
   "source": [
    "def get_keys(path):\n",
    "    with open(path) as f:\n",
    "        return json.load(f)"
   ]
  },
  {
   "cell_type": "code",
   "execution_count": 18,
   "metadata": {},
   "outputs": [],
   "source": [
    "keys = get_keys(\"/Users/ravimalde/.secret/spotify_genius.json\")\n",
    "spotify_client_id = keys['spotify_client_id']\n",
    "spotify_client_secret = keys[\"spotify_client_secret\"]\n",
    "genius_key = keys[\"genius_key\"]\n",
    "user_id = \"spotify:user:1144576376\"\n",
    "playlist_id = \"spotify:playlist:37i9dQZF1EtsoRWQYQkq7l\""
   ]
  },
  {
   "cell_type": "code",
   "execution_count": 19,
   "metadata": {},
   "outputs": [],
   "source": [
    "class GetLyrics():\n",
    "    \n",
    "    def __init__(self, spotify_client_id, spotify_client_secret, user_id, playlist_id, genius_key):\n",
    "        self.spotify_client_id = spotify_client_id\n",
    "        self.spotify_client_secret = spotify_client_secret\n",
    "        self.user_id = user_id\n",
    "        self.playlist_id = playlist_id\n",
    "        self.genius_key = genius_key\n",
    "        \n",
    "    def get_playlist_info(self):\n",
    "        token = SpotifyClientCredentials(client_id=self.spotify_client_id, client_secret=self.spotify_client_secret).get_access_token()\n",
    "        sp = spotipy.Spotify(token)\n",
    "        playlist = sp.user_playlist_tracks(self.user_id, self.playlist_id)\n",
    "        self.playlist = playlist\n",
    "        return self.playlist\n",
    "    \n",
    "    def get_track_names(self):\n",
    "        track_names = []\n",
    "        for song in range(len(self.playlist['items'])):\n",
    "            track_names.append(self.playlist['items'][song]['track']['name'])\n",
    "        self.track_names = track_names\n",
    "        return self.track_names\n",
    "    \n",
    "    def get_track_artists(self):\n",
    "        track_artists = []\n",
    "        for song in range(len(self.playlist['items'])):\n",
    "            track_artists.append(self.playlist['items'][song]['track']['artists'][0]['name'])\n",
    "        self.track_artists = track_artists\n",
    "        return self.track_artists\n",
    "        \n",
    "    def request_song_info(self, track_name, track_artist):\n",
    "        self.track_name = track_name\n",
    "        self.track_artist = track_artist\n",
    "        base_url = 'https://api.genius.com'\n",
    "        headers = {'Authorization': 'Bearer ' + self.genius_key}\n",
    "        search_url = base_url + '/search'\n",
    "        data = {'q': track_name + ' ' + track_artist}\n",
    "        response = requests.get(search_url, data=data, headers=headers)\n",
    "        self.response = response\n",
    "        return self.response\n",
    "\n",
    "    def check_hits(self):\n",
    "        json = self.response.json()\n",
    "        remote_song_info = None\n",
    "        for hit in json['response']['hits']:\n",
    "            if self.track_artist.lower() in hit['result']['primary_artist']['name'].lower():\n",
    "                remote_song_info = hit\n",
    "                break\n",
    "        self.remote_song_info = remote_song_info\n",
    "        return self.remote_song_info\n",
    "    \n",
    "    def get_url(self):\n",
    "        song_url = self.remote_song_info['result']['url']\n",
    "        self.song_url = song_url\n",
    "        return self.song_url\n",
    "    \n",
    "    def scrape_lyrics(self):\n",
    "        page = requests.get(self.song_url)\n",
    "        html = BeautifulSoup(page.text, 'html.parser')\n",
    "        lyrics1 = html.find(\"div\", class_=\"lyrics\")\n",
    "        lyrics2 = html.find(\"div\", class_=\"Lyrics__Container-sc-1ynbvzw-2 jgQsqn\")\n",
    "        if lyrics1:\n",
    "            lyrics = lyrics1.get_text()\n",
    "        elif lyrics2:\n",
    "            lyrics = lyrics2.get_text()\n",
    "        elif lyrics1 == lyrics2 == None:\n",
    "            lyrics = None\n",
    "        return lyrics\n",
    "\n",
    "    def get_lyrics(self):\n",
    "        playlist = GetLyrics.get_playlist_info(self)\n",
    "        track_names = GetLyrics.get_track_names(self)\n",
    "        track_artists = GetLyrics.get_track_artists(self)\n",
    "        song_lyrics = []\n",
    "        for i in range(len(self.track_names)):\n",
    "            print(\"\\n\")\n",
    "            print(f\"Working on track {i}.\")\n",
    "            response = GetLyrics.request_song_info(self, self.track_names[i], self.track_artists[i])\n",
    "            remote_song_info = GetLyrics.check_hits(self)\n",
    "            if remote_song_info == None:\n",
    "                lyrics = None\n",
    "                print(f\"Track {i} is not in the Genius database.\")\n",
    "            else:\n",
    "                url = GetLyrics.get_url(self)\n",
    "                lyrics = GetLyrics.scrape_lyrics(self)\n",
    "                if lyrics == None:\n",
    "                    print(f\"Track {i} is not in the Genius database.\")\n",
    "                else:\n",
    "                    print(f\"Retrieved track {i} lyrics!\")\n",
    "            song_lyrics.append(lyrics)\n",
    "        return song_lyrics"
   ]
  },
  {
   "cell_type": "code",
   "execution_count": 21,
   "metadata": {},
   "outputs": [],
   "source": [
    "songs = GetLyrics(spotify_client_id, spotify_client_secret, user_id, playlist_id, genius_key)"
   ]
  },
  {
   "cell_type": "code",
   "execution_count": null,
   "metadata": {},
   "outputs": [
    {
     "name": "stderr",
     "output_type": "stream",
     "text": [
      "/Users/ravimalde/opt/anaconda3/envs/learn-env/lib/python3.6/site-packages/ipykernel_launcher.py:11: DeprecationWarning: You're using 'as_dict = True'.get_access_token will return the token string directly in future versions. Please adjust your code accordingly, or use get_cached_token instead.\n",
      "  # This is added back by InteractiveShellApp.init_path()\n"
     ]
    },
    {
     "name": "stdout",
     "output_type": "stream",
     "text": [
      "\n",
      "\n",
      "Working on track 0.\n",
      "Retrieved track 0 lyrics!\n",
      "\n",
      "\n",
      "Working on track 1.\n",
      "Retrieved track 1 lyrics!\n",
      "\n",
      "\n",
      "Working on track 2.\n",
      "Retrieved track 2 lyrics!\n",
      "\n",
      "\n",
      "Working on track 3.\n",
      "Track 3 is not in the Genius database.\n",
      "\n",
      "\n",
      "Working on track 4.\n",
      "Retrieved track 4 lyrics!\n",
      "\n",
      "\n",
      "Working on track 5.\n",
      "Retrieved track 5 lyrics!\n",
      "\n",
      "\n",
      "Working on track 6.\n",
      "Retrieved track 6 lyrics!\n",
      "\n",
      "\n",
      "Working on track 7.\n",
      "Retrieved track 7 lyrics!\n",
      "\n",
      "\n",
      "Working on track 8.\n",
      "Retrieved track 8 lyrics!\n",
      "\n",
      "\n",
      "Working on track 9.\n",
      "Retrieved track 9 lyrics!\n",
      "\n",
      "\n",
      "Working on track 10.\n",
      "Track 10 is not in the Genius database.\n",
      "\n",
      "\n",
      "Working on track 11.\n",
      "Track 11 is not in the Genius database.\n",
      "\n",
      "\n",
      "Working on track 12.\n"
     ]
    }
   ],
   "source": [
    "song_lyrics = songs.get_lyrics()"
   ]
  },
  {
   "cell_type": "code",
   "execution_count": null,
   "metadata": {},
   "outputs": [],
   "source": [
    "song_lyrics"
   ]
  },
  {
   "cell_type": "code",
   "execution_count": null,
   "metadata": {},
   "outputs": [],
   "source": []
  }
 ],
 "metadata": {
  "kernelspec": {
   "display_name": "Python 3",
   "language": "python",
   "name": "python3"
  },
  "language_info": {
   "codemirror_mode": {
    "name": "ipython",
    "version": 3
   },
   "file_extension": ".py",
   "mimetype": "text/x-python",
   "name": "python",
   "nbconvert_exporter": "python",
   "pygments_lexer": "ipython3",
   "version": "3.6.9"
  }
 },
 "nbformat": 4,
 "nbformat_minor": 4
}
